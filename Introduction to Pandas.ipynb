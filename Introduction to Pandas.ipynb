{
 "cells": [
  {
   "cell_type": "markdown",
   "metadata": {},
   "source": [
    "## Datasets in Python\n",
    "- 2D Numpy array?\n",
    "        - Works with only one data type"
   ]
  },
  {
   "cell_type": "markdown",
   "metadata": {},
   "source": [
    "# Pandas\n",
    "- High level data manipulation tool\n",
    "- Library for data analysis\n",
    "- Provides high-performance, easy-to-use data structures\n",
    "- Built on Numpy\n",
    "- More high level compared to Numpy, making it interesting for data scientists all over the world.\n",
    "- Values in different columns can have different types"
   ]
  },
  {
   "cell_type": "markdown",
   "metadata": {},
   "source": [
    "## Pandas DataFrames\n",
    "Tabular datastructure with labeled rows and columns\n",
    "\n",
    "Rows: Labeled by special data structure called index.\n",
    "\n",
    "### Index :\n",
    "Tabled list of labels that permit fast lookup and some relational operations.\n",
    "\n",
    "Index labels in Apple dataframe = dates in reverse chronological order.\n",
    "\n",
    "![dataframe](Images/dataframe.png)"
   ]
  },
  {
   "cell_type": "markdown",
   "metadata": {},
   "source": [
    "## Working with DataFrame in memory"
   ]
  },
  {
   "cell_type": "markdown",
   "metadata": {},
   "source": [
    "![indexes](Images/indexes.png)"
   ]
  },
  {
   "cell_type": "markdown",
   "metadata": {},
   "source": [
    "Notice that AAPL.columns is also pandas index."
   ]
  },
  {
   "cell_type": "markdown",
   "metadata": {},
   "source": [
    "![datetimeindex](Images/datetimeindex.png)"
   ]
  },
  {
   "cell_type": "markdown",
   "metadata": {},
   "source": [
    "The AAPL.index attribute in this case is of special kind - called DatetimeIndex"
   ]
  },
  {
   "cell_type": "markdown",
   "metadata": {},
   "source": [
    "### To select rows from a DataFrame\n",
    "Dataframes can be sliced like Numpy arrays or python lists:\n",
    "\n",
    "AAPL[:5,:] is valid\n",
    "\n",
    "But, square brackets offer limited functionality.\n",
    "\n",
    "To get something similar to Numpy arrays for Pandas:\n",
    "\n",
    "## loc (label based)\n",
    "- To select parts of your data based on labels\n",
    "- loc function is more versatile than square brackets.\n",
    "- we can select rows, columns and rows and columns at the same time.\n",
    "- subsetting becomes much similar to subsetting in numpy.\n",
    "- only difference- we use row labels in loc, not the position of elements.\n"
   ]
  },
  {
   "cell_type": "markdown",
   "metadata": {},
   "source": [
    "![loc](Images/loc.png)"
   ]
  },
  {
   "cell_type": "markdown",
   "metadata": {},
   "source": [
    "## iloc (integer position based)\n",
    "Subsetting Pandas DataFrames based on their position or index"
   ]
  },
  {
   "cell_type": "markdown",
   "metadata": {},
   "source": [
    "![row_acess_iloc](Images/railoc1.png)"
   ]
  },
  {
   "cell_type": "markdown",
   "metadata": {},
   "source": [
    "![row_acess_iloc](Images/railoc2.png)"
   ]
  },
  {
   "cell_type": "markdown",
   "metadata": {},
   "source": [
    "![row_and_column_access_iloc](Images/raciloc.png)"
   ]
  },
  {
   "cell_type": "markdown",
   "metadata": {},
   "source": [
    "![slicing](Images/slicing.png)"
   ]
  },
  {
   "cell_type": "markdown",
   "metadata": {},
   "source": [
    "### head() method\n",
    "Another way to see the first few rows of data:\n",
    "![head](Images/head.png)"
   ]
  },
  {
   "cell_type": "markdown",
   "metadata": {},
   "source": [
    "### tail() method\n",
    "Accessing the last 5 rows:\n",
    "![tail](Images/tail.png)"
   ]
  },
  {
   "cell_type": "markdown",
   "metadata": {},
   "source": [
    "### info()\n",
    "Useful summary for large dataframes\n",
    "![info](Images/info.png)"
   ]
  },
  {
   "cell_type": "markdown",
   "metadata": {},
   "source": [
    "## Series\n",
    "- Columns of a Dataframe are themselves a specialized Pandas structure called a Series.\n",
    "- Extracting a single column from a DataFrame returns a Series.\n",
    "- The Series extracted has its own head method and inherits its name attribute from Dataframe column.\n",
    "\n",
    "### values attribute:\n",
    "- To extract numerical entities from Series\n",
    "- Yields a Numpy array\n",
    "\n",
    "### To select columns, use square brackets with DataFrame name\n",
    "\n",
    "![series](Images/series.png)"
   ]
  },
  {
   "cell_type": "markdown",
   "metadata": {},
   "source": [
    "Pandas Series = 1D labelled Numpy array\n",
    "Pandas Dataframe = 2D labelled array whose columns are Series\n",
    "![series and dataframe](Images/series-and-dataframe.png)"
   ]
  },
  {
   "cell_type": "markdown",
   "metadata": {},
   "source": [
    "If, instead of a Series object, you require a DataFrame, use double square brackets.\n",
    "\n",
    "low = AAPL[['Low']]\n",
    "\n",
    "To get 2 columns at a time:\n",
    "\n",
    "highlow = AAPL[['High','Low']]"
   ]
  },
  {
   "cell_type": "markdown",
   "metadata": {},
   "source": [
    "## Building DataFrames from scratch"
   ]
  },
  {
   "cell_type": "markdown",
   "metadata": {},
   "source": [
    "### DataFrames from CSV files \n",
    "When working with tons of data\n",
    "\n",
    "index_col=0 is to tell read_csv that the first column is the index\n",
    "![csv_dataframes](Images/csv_dataframes.png)"
   ]
  },
  {
   "cell_type": "markdown",
   "metadata": {},
   "source": [
    "## Creating DataFrames from Dictionary"
   ]
  },
  {
   "cell_type": "markdown",
   "metadata": {},
   "source": [
    "### Method 1"
   ]
  },
  {
   "cell_type": "code",
   "execution_count": null,
   "metadata": {},
   "outputs": [],
   "source": [
    "import pandas as pd\n",
    "# keys of dictionary data are used as column labels\n",
    "# Values = corresponding columns, in list form\n",
    "data = {'weekday' : ['Sun', 'Sun', 'Mon', 'Mon'],\n",
    "        'city' : [' Austin', ' Dallas', ' Austin', ' Dallas'],\n",
    "        'visitors' : [139,237,326,456],\n",
    "        'signups' : [7,12,3,5]}\n",
    "users = pd.DataFrame(data)\n",
    "print(users)"
   ]
  },
  {
   "cell_type": "markdown",
   "metadata": {},
   "source": [
    "With no index specified, the row labels are integers 0 to 3 by default.\n",
    "\n",
    "Can set data.index = [list with labels]"
   ]
  },
  {
   "cell_type": "markdown",
   "metadata": {},
   "source": [
    "### Method 2"
   ]
  },
  {
   "cell_type": "code",
   "execution_count": null,
   "metadata": {},
   "outputs": [],
   "source": [
    "cities = [' Austin', ' Dallas', ' Austin', ' Dallas']\n",
    "signups = [7,12,3,5]\n",
    "visitors = [139,237,326,456]\n",
    "weekdays = ['Sun', 'Sun', 'Mon', 'Mon']\n",
    "list_labels = ['city', 'signups', 'visitors', 'weekday']\n",
    "list_cols = [cities, signups, visitors, weekdays]  # A list of lists\n",
    "zipped = list(zip(list_labels,list_cols))"
   ]
  },
  {
   "cell_type": "code",
   "execution_count": null,
   "metadata": {},
   "outputs": [],
   "source": [
    "data = dict(zipped)\n",
    "users = pd.DataFrame(data)\n",
    "users"
   ]
  },
  {
   "cell_type": "markdown",
   "metadata": {},
   "source": [
    "## Broadcasting"
   ]
  },
  {
   "cell_type": "code",
   "execution_count": null,
   "metadata": {},
   "outputs": [],
   "source": [
    "users['fees'] = 0 #Broadcasts value to entire column\n",
    "users"
   ]
  },
  {
   "cell_type": "markdown",
   "metadata": {},
   "source": [
    "## Relabeling"
   ]
  },
  {
   "cell_type": "code",
   "execution_count": null,
   "metadata": {},
   "outputs": [],
   "source": [
    "users.columns"
   ]
  },
  {
   "cell_type": "code",
   "execution_count": null,
   "metadata": {},
   "outputs": [],
   "source": [
    "list_labels = ['City','Sign-ups','Visitors','Weekday', 'Fees']\n",
    "users.columns = list_labels\n",
    "users.columns"
   ]
  },
  {
   "cell_type": "code",
   "execution_count": null,
   "metadata": {},
   "outputs": [],
   "source": [
    "#EXERCISE\n",
    "\n",
    "#Given:\n",
    "# names, containing the country names for which data is available.\n",
    "# dr, a list with booleans that tells whether people drive left or right in the corresponding country.\n",
    "# cpc, the number of motor vehicles per 1000 people in the corresponding country.\n",
    "\n",
    "# Pre-defined lists\n",
    "names = ['United States', 'Australia', 'Japan', 'India', 'Russia', 'Morocco', 'Egypt']\n",
    "dr =  [True, False, False, False, True, True, True]\n",
    "cpc = [809, 731, 588, 18, 200, 70, 45]\n",
    "\n",
    "# Import pandas as pd\n",
    "\n",
    "\n",
    "# Create dictionary my_dict with three key:value pairs: my_dict\n",
    "my_dict = \n",
    "\n",
    "\n",
    "# Build a DataFrame cars from my_dict: cars\n",
    "cars = \n",
    "\n",
    "# Print cars\n",
    "print(cars)"
   ]
  },
  {
   "cell_type": "code",
   "execution_count": null,
   "metadata": {},
   "outputs": [],
   "source": [
    "# Definition of row_labels\n",
    "row_labels = ['US', 'AUS', 'JAP', 'IN', 'RU', 'MOR', 'EG']\n",
    "\n",
    "# Specify row labels of cars\n",
    "\n",
    "\n",
    "# Print cars again\n",
    "print()"
   ]
  },
  {
   "cell_type": "markdown",
   "metadata": {},
   "source": [
    "## Importing and Exporting Data from Data in CSV"
   ]
  },
  {
   "cell_type": "markdown",
   "metadata": {},
   "source": [
    "### Dataset: Sunspot observations collected from SILSO (Sunspot Index and Long-term Solar Observations)\n",
    "(Source : SILSO Daily total sunspot number http://www.sidc.be/silso/infossntotdaily)\n",
    "\n",
    "Over 70k rows"
   ]
  },
  {
   "cell_type": "code",
   "execution_count": null,
   "metadata": {},
   "outputs": [],
   "source": [
    "filepath = 'ISSN_D_tot.csv'\n",
    "#read_csv function requires a string describing a filepath as input\n",
    "sunspots = pd.read_csv(filepath)  #sunspots = dataframe\n",
    "sunspots.info()"
   ]
  },
  {
   "cell_type": "markdown",
   "metadata": {},
   "source": [
    "- We can see that DataFrame mostly has integer or floating point entries.\n",
    "- Index of the DataFrame(the row labels) are of type RangeIndex(Just Integers)."
   ]
  },
  {
   "cell_type": "code",
   "execution_count": null,
   "metadata": {},
   "outputs": [],
   "source": [
    "sunspots.iloc[10:20,:]"
   ]
  },
  {
   "cell_type": "markdown",
   "metadata": {},
   "source": [
    "Some problems we can notice:\n",
    "    - The column headers don't make sense\n",
    "    - Many -1 entries in one column"
   ]
  },
  {
   "cell_type": "markdown",
   "metadata": {},
   "source": [
    "Reasoning:\n",
    "    \n",
    "1. CSV file has no column headers.\n",
    "\n",
    "Column meanings from SILSO website:"
   ]
  },
  {
   "cell_type": "markdown",
   "metadata": {},
   "source": [
    "![alternate](Images/SILSO_columns.png)"
   ]
  },
  {
   "cell_type": "markdown",
   "metadata": {},
   "source": [
    "2. Missing values in column 4 : indicated by -1.\n",
    "\n",
    "    We need to take care of those.\n",
    "    \n",
    "3. Data representation is inconvenient."
   ]
  },
  {
   "cell_type": "markdown",
   "metadata": {},
   "source": [
    "### Let's tidy this up!"
   ]
  },
  {
   "cell_type": "code",
   "execution_count": null,
   "metadata": {},
   "outputs": [],
   "source": [
    "sunspots = pd.read_csv(filepath, header=None)  \n",
    "#header=None prevents pandas from assuming first line of file gives column labels.\n",
    "#Alternatively,an integer header argument gives the row number(indexed from 0) where column labels actually are and data begins"
   ]
  },
  {
   "cell_type": "code",
   "execution_count": null,
   "metadata": {},
   "outputs": [],
   "source": [
    "sunspots.iloc[10:20,:]\n"
   ]
  },
  {
   "cell_type": "markdown",
   "metadata": {},
   "source": [
    "Now, rows and columns are assigned integers from 0 as labels."
   ]
  },
  {
   "cell_type": "code",
   "execution_count": null,
   "metadata": {},
   "outputs": [],
   "source": [
    "col_names = ['year', 'month', 'day', 'dec_date', 'sunspots', 'definite']\n",
    "sunspots = pd.read_csv(filepath, header=None, names=col_names)  #names keyword is the important bit here\n",
    "sunspots.iloc[10:20,:]"
   ]
  },
  {
   "cell_type": "code",
   "execution_count": null,
   "metadata": {},
   "outputs": [],
   "source": [
    "# Reading -1 entries as Not a Number or NaN, sometimes called a null value\n",
    "sunspots = pd.read_csv(filepath, header=None, names=col_names, na_values='-1')\n",
    "sunspots.iloc[10:20,:]"
   ]
  },
  {
   "cell_type": "markdown",
   "metadata": {},
   "source": [
    "But the data still shows -1.\n",
    "\n",
    "Looking at CSV file, there are space characters preceding -1 throughout column 4."
   ]
  },
  {
   "cell_type": "code",
   "execution_count": null,
   "metadata": {},
   "outputs": [],
   "source": [
    "sunspots = pd.read_csv(filepath, header=None, names=col_names, na_values=' -1')\n",
    "sunspots.iloc[10:20,:]"
   ]
  },
  {
   "cell_type": "markdown",
   "metadata": {},
   "source": [
    "### Loading year,month,date columns in a better way:\n",
    "The parse_dates keyword in read_csv infers dates intelligently."
   ]
  },
  {
   "cell_type": "code",
   "execution_count": null,
   "metadata": {},
   "outputs": [],
   "source": [
    "sunspots = pd.read_csv(filepath, header=None, names=col_names, na_values={'sunspots':[-1]}, parse_dates=[[0,1,2]])\n",
    "# parse_dates uses a list of list to inform read_csv which columns hold the dates\n",
    "sunspots.iloc[10:20,:]\n"
   ]
  },
  {
   "cell_type": "code",
   "execution_count": null,
   "metadata": {},
   "outputs": [],
   "source": [
    "sunspots.info()\n",
    "# year_month_day has entries of type datetime64"
   ]
  },
  {
   "cell_type": "markdown",
   "metadata": {},
   "source": [
    "### Giving meaningful row labels in index"
   ]
  },
  {
   "cell_type": "code",
   "execution_count": null,
   "metadata": {},
   "outputs": [],
   "source": [
    "sunspots.index = sunspots['year_month_day']\n",
    "sunspots.index.name = 'date'\n",
    "sunspots.info()"
   ]
  },
  {
   "cell_type": "markdown",
   "metadata": {},
   "source": [
    "### Trimming redundant columns"
   ]
  },
  {
   "cell_type": "code",
   "execution_count": null,
   "metadata": {},
   "outputs": [],
   "source": [
    "#list the meaningful columns and extract them\n",
    "# Result = more compact dataframe with only meaningful data\n",
    "cols = ['sunspots', 'definite']\n",
    "sunspots = sunspots[cols]\n",
    "sunspots.iloc[10:20,:]"
   ]
  },
  {
   "cell_type": "markdown",
   "metadata": {},
   "source": [
    "## Writing files\n",
    "- to share this new DataFrame with others\n",
    "- export compact DataFrame to new CSV file (using to_csv() method)\n",
    "- can even export to excel using to_excel() method"
   ]
  },
  {
   "cell_type": "code",
   "execution_count": null,
   "metadata": {},
   "outputs": [],
   "source": [
    "out_csv = 'sunspots.csv' # csv = comma separated values\n",
    "sunspots.to_csv(out_csv) "
   ]
  },
  {
   "cell_type": "code",
   "execution_count": null,
   "metadata": {},
   "outputs": [],
   "source": [
    "# Similarly:\n",
    "# out_tsv = 'sunspots.tsv' # tsv = tab separated values\n",
    "# sunspots.to_csv(out_tsv)\n",
    "\n",
    "# out_xlxs = 'sunspots.xlsx' \n",
    "# sunspots.to_excel(out_xlsx)\n",
    "\n",
    "\n"
   ]
  }
 ],
 "metadata": {
  "kernelspec": {
   "display_name": "Python 3",
   "language": "python",
   "name": "python3"
  },
  "language_info": {
   "codemirror_mode": {
    "name": "ipython",
    "version": 3
   },
   "file_extension": ".py",
   "mimetype": "text/x-python",
   "name": "python",
   "nbconvert_exporter": "python",
   "pygments_lexer": "ipython3",
   "version": "3.7.3"
  }
 },
 "nbformat": 4,
 "nbformat_minor": 2
}
