{
 "cells": [
  {
   "cell_type": "markdown",
   "metadata": {},
   "source": [
    "## Looping over Numpy arrays"
   ]
  },
  {
   "cell_type": "code",
   "execution_count": null,
   "metadata": {},
   "outputs": [],
   "source": [
    "import numpy as np\n",
    "np_array1 = np.array([73,75,72,71,77,76]) #1D array\n",
    "np_array2 = np.array([[2, 0],\n",
    "   [3, 0],\n",
    "   [3, 1],\n",
    "   [5, 0],\n",
    "   [5, 1],\n",
    "   [5, 2]]) #2D array\n",
    "\n",
    "# For loop over np_height1\n",
    "print(\"Array 1\")\n",
    "for x in np_array1:\n",
    "    print(x)\n",
    "\n",
    "print(\"Array 2\") \n",
    "# For loop over np_height2\n",
    "for i in np.nditer(np_array2):\n",
    "    print(i)"
   ]
  },
  {
   "cell_type": "markdown",
   "metadata": {},
   "source": [
    "## Range Function\n",
    "- allows user to generate a series of numbers within a given range. \n",
    "- start: integer starting from which the sequence of integers is to be returned\n",
    "- stop: integer before which the sequence of integers is to be returned.\n",
    "The range of integers end at stop – 1.\n",
    "- step: integer value which determines the increment between each integer in the sequence"
   ]
  },
  {
   "cell_type": "code",
   "execution_count": null,
   "metadata": {},
   "outputs": [],
   "source": [
    "# printing a number \n",
    "for i in range(10): \n",
    "    print(i, end =\" \") \n",
    "print() "
   ]
  },
  {
   "cell_type": "code",
   "execution_count": null,
   "metadata": {},
   "outputs": [],
   "source": [
    "# using range for iteration \n",
    "l = [10, 20, 30, 40] \n",
    "for i in range(len(l)): \n",
    "    print(l[i], end =\" \") \n",
    "print() "
   ]
  },
  {
   "cell_type": "code",
   "execution_count": null,
   "metadata": {},
   "outputs": [],
   "source": [
    "#EXERCISE\n",
    "#perform sum of first 10 natural numbers using range"
   ]
  },
  {
   "cell_type": "markdown",
   "metadata": {},
   "source": [
    "# Functions"
   ]
  },
  {
   "cell_type": "markdown",
   "metadata": {},
   "source": [
    "## Built in functions\n",
    "str()"
   ]
  },
  {
   "cell_type": "markdown",
   "metadata": {},
   "source": [
    "## User Defined functions\n",
    "\n",
    "def function_name:\n",
    "    \n",
    "    function definition"
   ]
  },
  {
   "cell_type": "markdown",
   "metadata": {},
   "source": [
    "#### Defining a function"
   ]
  },
  {
   "cell_type": "code",
   "execution_count": null,
   "metadata": {},
   "outputs": [],
   "source": [
    "# function for squaring a number\n",
    "def square():  #function header\n",
    "    new_value = 4**2  # function body\n",
    "    print(new_value)"
   ]
  },
  {
   "cell_type": "markdown",
   "metadata": {},
   "source": [
    "#### Calling a function"
   ]
  },
  {
   "cell_type": "code",
   "execution_count": null,
   "metadata": {},
   "outputs": [],
   "source": [
    "square()"
   ]
  },
  {
   "cell_type": "markdown",
   "metadata": {},
   "source": [
    "## Function Parameters"
   ]
  },
  {
   "cell_type": "code",
   "execution_count": null,
   "metadata": {},
   "outputs": [],
   "source": [
    "def square(value):  #function header with parameter\n",
    "    new_value = value**2  \n",
    "    print(new_value)"
   ]
  },
  {
   "cell_type": "code",
   "execution_count": null,
   "metadata": {},
   "outputs": [],
   "source": [
    "square(4)  #passing argument"
   ]
  },
  {
   "cell_type": "markdown",
   "metadata": {},
   "source": [
    "## Return values from functions\n",
    "- if we don't want to print the value directly\n",
    "- we want to return it and assign it to some variable"
   ]
  },
  {
   "cell_type": "code",
   "execution_count": null,
   "metadata": {},
   "outputs": [],
   "source": [
    "def square(value):  \n",
    "    new_value = value**2  \n",
    "    return new_value"
   ]
  },
  {
   "cell_type": "code",
   "execution_count": null,
   "metadata": {},
   "outputs": [],
   "source": [
    "num = square(4)\n",
    "num"
   ]
  },
  {
   "cell_type": "markdown",
   "metadata": {},
   "source": [
    "## Docstrings"
   ]
  },
  {
   "cell_type": "markdown",
   "metadata": {},
   "source": [
    "![docstrings](Images/docstrings.png)"
   ]
  },
  {
   "cell_type": "code",
   "execution_count": null,
   "metadata": {},
   "outputs": [],
   "source": [
    "def square(value): \n",
    "    \"\"\"Return the square of a value\"\"\"\n",
    "    new_value = value**2  \n",
    "    return new_value"
   ]
  },
  {
   "cell_type": "code",
   "execution_count": null,
   "metadata": {},
   "outputs": [],
   "source": [
    "#EXERCISE\n",
    "#Define a function, shout(), which returns a string with three exclamation marks '!!!' at the end. \n",
    "# parameter name = word"
   ]
  },
  {
   "cell_type": "markdown",
   "metadata": {},
   "source": [
    "## Multiple function parameters"
   ]
  },
  {
   "cell_type": "code",
   "execution_count": null,
   "metadata": {},
   "outputs": [],
   "source": [
    "def raise_to_power(value1, value2): \n",
    "    \"\"\"Raise value1 to the power of value 2\"\"\"\n",
    "    new_value = value1**value2\n",
    "    return new_value"
   ]
  },
  {
   "cell_type": "code",
   "execution_count": null,
   "metadata": {},
   "outputs": [],
   "source": [
    "#Call function: No. of arguments = No. of parameters\n",
    "#Order matters\n",
    "result = raise_to_power(2,3)\n",
    "print(result)"
   ]
  },
  {
   "cell_type": "markdown",
   "metadata": {},
   "source": [
    "## Making functions return multiple values: Tuples"
   ]
  },
  {
   "cell_type": "markdown",
   "metadata": {},
   "source": [
    "### Tuples:\n",
    "- Like a list - can contain multiple values\n",
    "- Immutable - can't modify values\n",
    "- Constructed using parantheses()"
   ]
  },
  {
   "cell_type": "code",
   "execution_count": null,
   "metadata": {},
   "outputs": [],
   "source": [
    "even_nums = (2,4,6) #making a tuple\n",
    "a,b,c = even_nums #unpacking a tuple\n",
    "print(a)\n",
    "print(b)\n",
    "print(c)"
   ]
  },
  {
   "cell_type": "markdown",
   "metadata": {},
   "source": [
    "### Accessing tuple elements"
   ]
  },
  {
   "cell_type": "code",
   "execution_count": null,
   "metadata": {},
   "outputs": [],
   "source": [
    "even_nums = (2,4,6)\n",
    "print(even_nums[1])"
   ]
  },
  {
   "cell_type": "code",
   "execution_count": null,
   "metadata": {},
   "outputs": [],
   "source": [
    "def raise_both(value1, value2): \n",
    "    \"\"\"Raise value1 to the power of value 2 and vice versa\"\"\"\n",
    "    \n",
    "    new_value1 = value1**value2\n",
    "    new_value2 = value2**value1\n",
    "    \n",
    "    return (new_value1, new_value2)"
   ]
  },
  {
   "cell_type": "code",
   "execution_count": null,
   "metadata": {},
   "outputs": [],
   "source": [
    "print(raise_both(2,3))"
   ]
  },
  {
   "cell_type": "code",
   "execution_count": null,
   "metadata": {},
   "outputs": [],
   "source": [
    "#EXERCISE\n",
    "# Define shout_all with parameters word1 and word2\n",
    "def shout_all(word1, word2):\n",
    "    \n",
    "    # Concatenate word1 with '!!!': shout1\n",
    "    shout1 =\n",
    "    \n",
    "    # Concatenate word2 with '!!!': shout2\n",
    "    shout2 = \n",
    "    \n",
    "    # Construct a tuple with shout1 and shout2: shout_words\n",
    "    shout_words= \n",
    "\n",
    "    # Return shout_words\n",
    "    return \n",
    "\n",
    "# Pass 'congratulations' and 'you' to shout_all(): yell1, yell2\n",
    "yell1, yell2 = \n",
    "\n",
    "# Print yell1 and yell2\n",
    "print(yell1)\n",
    "print(yell2)\n"
   ]
  },
  {
   "cell_type": "code",
   "execution_count": null,
   "metadata": {},
   "outputs": [],
   "source": []
  }
 ],
 "metadata": {
  "kernelspec": {
   "display_name": "Python 3",
   "language": "python",
   "name": "python3"
  },
  "language_info": {
   "codemirror_mode": {
    "name": "ipython",
    "version": 3
   },
   "file_extension": ".py",
   "mimetype": "text/x-python",
   "name": "python",
   "nbconvert_exporter": "python",
   "pygments_lexer": "ipython3",
   "version": "3.7.3"
  }
 },
 "nbformat": 4,
 "nbformat_minor": 2
}
